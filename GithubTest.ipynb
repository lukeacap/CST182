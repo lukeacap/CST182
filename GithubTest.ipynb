{
  "nbformat": 4,
  "nbformat_minor": 0,
  "metadata": {
    "colab": {
      "provenance": [],
      "authorship_tag": "ABX9TyM6LE1lalT4pz+31QpO08Ec",
      "include_colab_link": true
    },
    "kernelspec": {
      "name": "python3",
      "display_name": "Python 3"
    },
    "language_info": {
      "name": "python"
    }
  },
  "cells": [
    {
      "cell_type": "markdown",
      "metadata": {
        "id": "view-in-github",
        "colab_type": "text"
      },
      "source": [
        "<a href=\"https://colab.research.google.com/github/lukeacap/CST182/blob/main/GithubTest.ipynb\" target=\"_parent\"><img src=\"https://colab.research.google.com/assets/colab-badge.svg\" alt=\"Open In Colab\"/></a>"
      ]
    },
    {
      "cell_type": "code",
      "execution_count": 2,
      "metadata": {
        "colab": {
          "base_uri": "https://localhost:8080/"
        },
        "id": "tnOm2JTInzdV",
        "outputId": "5380fb47-1cd2-47af-e300-a69ecd5f9979"
      },
      "outputs": [
        {
          "output_type": "stream",
          "name": "stdout",
          "text": [
            "How much are you investing? 1000\n",
            "0 = 1050.0\n",
            "1 = 1102.5\n",
            "2 = 1157.625\n",
            "3 = 1215.5062500000001\n",
            "4 = 1276.2815625000003\n",
            "5 = 1340.0956406250004\n",
            "6 = 1407.1004226562504\n",
            "7 = 1477.455443789063\n",
            "8 = 1551.3282159785163\n",
            "9 = 1628.8946267774422\n"
          ]
        }
      ],
      "source": [
        "amount = float(input(\"How much are you investing? \"))\n",
        "for i in range(10):\n",
        "  amount*=1.05\n",
        "  print(f\"{i} = {amount}\")"
      ]
    },
    {
      "cell_type": "code",
      "source": [],
      "metadata": {
        "id": "ZBHu_oRqn7o-"
      },
      "execution_count": null,
      "outputs": []
    }
  ]
}